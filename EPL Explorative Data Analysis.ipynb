{
 "cells": [
  {
   "cell_type": "code",
   "execution_count": null,
   "metadata": {},
   "outputs": [],
   "source": [
    "import numpy as np\n",
    "import pandas as pd \n",
    "import seaborn as sns\n",
    "import matplotlib\n",
    "import matplotlib.pyplot as plt\n",
    "import openpyxl\n",
    "%matplotlib inline"
   ]
  },
  {
   "cell_type": "code",
   "execution_count": null,
   "metadata": {},
   "outputs": [],
   "source": [
    "import os\n",
    "for dirname, _, filenames in os.walk('/kaggle/input'):\n",
    "    for filename in filenames:\n",
    "        print(os.path.join(dirname, filename))"
   ]
  },
  {
   "cell_type": "code",
   "execution_count": null,
   "metadata": {},
   "outputs": [],
   "source": [
    "pl_df = pd.read_csv('results.csv')\n",
    "\n",
    "pl_df"
   ]
  },
  {
   "cell_type": "code",
   "execution_count": null,
   "metadata": {},
   "outputs": [],
   "source": [
    "EPL_Data = pl_df.drop(range(0,(2824)), axis=0)\n",
    "EPL_Data "
   ]
  },
  {
   "cell_type": "code",
   "execution_count": null,
   "metadata": {},
   "outputs": [],
   "source": [
    "pd.isna(EPL_Data).sum()"
   ]
  },
  {
   "cell_type": "code",
   "execution_count": null,
   "metadata": {},
   "outputs": [],
   "source": [
    "EPL_Data['Month'] = pd.DatetimeIndex(EPL_Data['DateTime']).month\n",
    "EPL_Data['Day'] = pd.DatetimeIndex(EPL_Data['DateTime']).day"
   ]
  },
  {
   "cell_type": "code",
   "execution_count": null,
   "metadata": {},
   "outputs": [],
   "source": [
    "EPL_Data.drop(['DateTime'], axis=1)\n",
    "EPL_Data.describe(include = 'O')"
   ]
  },
  {
   "cell_type": "code",
   "execution_count": null,
   "metadata": {},
   "outputs": [],
   "source": [
    "matplotlib.rcParams['font.size'] = 18\n",
    "matplotlib.rcParams['figure.figsize'] = (30, 10)\n",
    "matplotlib.rcParams['figure.facecolor'] = '#00000000'"
   ]
  },
  {
   "cell_type": "markdown",
   "metadata": {},
   "source": [
    "Season-Wise Analysis"
   ]
  },
  {
   "cell_type": "code",
   "execution_count": null,
   "metadata": {},
   "outputs": [],
   "source": [
    "EPL_by_Season = EPL_Data.groupby(['Season']).sum()\n",
    "\n",
    "EPL_by_Season = EPL_by_Season.drop(['DateTime','HomeTeam', 'AwayTeam', 'FTR', 'HTR', 'Referee', 'Month', 'Day' ], axis=1)\n",
    "\n",
    "EPL_by_Season"
   ]
  },
  {
   "cell_type": "code",
   "execution_count": null,
   "metadata": {},
   "outputs": [],
   "source": [
    "EPL_by_Season['Goals'] = EPL_by_Season['FTHG'] + EPL_by_Season['FTAG']\n",
    "EPL_by_Season = EPL_by_Season.reset_index()\n",
    "sns.barplot(x='Goals', y='Season', data=EPL_by_Season)\n",
    "plt.title('Number of Goals Scored Per Season') \n",
    "plt.ylabel('Goals')"
   ]
  },
  {
   "cell_type": "code",
   "execution_count": null,
   "metadata": {},
   "outputs": [],
   "source": [
    "max_goals = EPL_by_Season['Goals'].max()\n",
    "min_goals = EPL_by_Season['Goals'].min()\n",
    "\n",
    "max_season = EPL_by_Season.loc[EPL_by_Season['Goals'] == max_goals, 'Season'].values[0]\n",
    "min_season = EPL_by_Season.loc[EPL_by_Season['Goals'] == min_goals, 'Season'].values[0]\n",
    "\n",
    "results = pd.DataFrame({'Season': [max_season, min_season], \n",
    "                        'Goals': [max_goals, min_goals], \n",
    "                        'Type': ['Max', 'Min']})\n",
    "\n",
    "results"
   ]
  },
  {
   "cell_type": "code",
   "execution_count": null,
   "metadata": {},
   "outputs": [],
   "source": [
    "EPL_melted = EPL_by_Season[['Season', 'FTHG', 'FTAG']]\n",
    "EPL_melt = EPL_melted.melt(\"Season\",var_name=\"H/A\",value_name=\"Goals\")\n",
    "\n",
    "EPL_melt"
   ]
  },
  {
   "cell_type": "code",
   "execution_count": null,
   "metadata": {},
   "outputs": [],
   "source": [
    "sns.barplot(x='Goals', y='Season', hue = 'H/A',data = EPL_melt)\n",
    "plt.title('Number of Goals Scored Per Season') \n",
    "plt.ylabel('Season')\n",
    "plt.legend(['Home Goals', 'Away Goals'])"
   ]
  },
  {
   "cell_type": "code",
   "execution_count": null,
   "metadata": {},
   "outputs": [],
   "source": [
    "x = EPL_melt.groupby('H/A').sum(numeric_only=True).iloc[0]\n",
    "y = EPL_melt.groupby('H/A').sum(numeric_only=True).iloc[1]\n",
    "\n",
    "percentage_change = ((y - x) / abs(x) * 100)"
   ]
  },
  {
   "cell_type": "code",
   "execution_count": null,
   "metadata": {},
   "outputs": [],
   "source": [
    "EPL_by_Season['Goals'] = EPL_by_Season['FTHG'] + EPL_by_Season['FTAG']\n",
    "EPL_by_Season['Half_Goals'] = EPL_by_Season['HTHG'] + EPL_by_Season['HTAG']\n",
    "EPL_by_Season['2nd_Half_Goals'] = EPL_by_Season['Goals'] - EPL_by_Season['Half_Goals']"
   ]
  },
  {
   "cell_type": "code",
   "execution_count": null,
   "metadata": {},
   "outputs": [],
   "source": [
    "EPL_melted_half = EPL_by_Season[['Season', 'Half_Goals', '2nd_Half_Goals']]\n",
    "EPL_melt_half = EPL_melted_half.melt(\"Season\",var_name=\"1st_half/2nd_half\",value_name=\"Goals\")\n",
    "EPL_melt_half"
   ]
  },
  {
   "cell_type": "code",
   "execution_count": null,
   "metadata": {},
   "outputs": [],
   "source": [
    "sns.barplot(x='Goals', y='Season', hue = '1st_half/2nd_half',data = EPL_melt_half)\n",
    "plt.title('Number of the 1st & 2nd Half Goals Scored Per Season') \n",
    "plt.ylabel('Season')\n",
    "plt.legend(['1st Half Goals', '2nd Half Goals'])"
   ]
  },
  {
   "cell_type": "code",
   "execution_count": null,
   "metadata": {},
   "outputs": [],
   "source": [
    "EPL_melt_half.groupby('1st_half/2nd_half').sum(numeric_only=True)"
   ]
  },
  {
   "cell_type": "code",
   "execution_count": null,
   "metadata": {},
   "outputs": [],
   "source": [
    "x = EPL_melt_half.groupby('1st_half/2nd_half').sum(numeric_only=True).iloc[0]\n",
    "y = EPL_melt_half.groupby('1st_half/2nd_half').sum(numeric_only=True).iloc[1]\n",
    "\n",
    "percentage_change = (abs(y- x) / abs(x) * 100)\n",
    "percentage_change"
   ]
  },
  {
   "cell_type": "code",
   "execution_count": null,
   "metadata": {},
   "outputs": [],
   "source": [
    "EPL_heat = EPL_Data.groupby(['Season','Month']).sum(numeric_only=True).reset_index()\n",
    "EPL_heat['Goals'] = EPL_heat['FTHG'] + EPL_heat['FTAG']\n",
    "Final = EPL_heat.pivot(index='Season', columns='Month', values='Goals')\n",
    "# month_order = ['8', '9', '10', '11', '12', '1', '2', '3', '4', '5', '6','7']\n",
    "# Final = Final.reindex(columns=month_order)"
   ]
  },
  {
   "cell_type": "code",
   "execution_count": null,
   "metadata": {},
   "outputs": [],
   "source": [
    "sns.heatmap(Final, annot=True, cmap='Greens', fmt='g')\n",
    "plt.title('Goals Distribution based on month') "
   ]
  },
  {
   "cell_type": "code",
   "execution_count": null,
   "metadata": {},
   "outputs": [],
   "source": [
    "EPL_Data.groupby(['Season','Month']).sum(numeric_only=True)"
   ]
  },
  {
   "cell_type": "code",
   "execution_count": null,
   "metadata": {},
   "outputs": [],
   "source": [
    "EPL_count = EPL_Data.groupby(['Season','Month']).count().reset_index()\n",
    "EPL_heat['G/M'] = round(EPL_heat['Goals'] / EPL_count['FTHG'])\n",
    "Final = EPL_heat.pivot(index='Season', columns='Month', values='G/M')\n",
    "Final"
   ]
  },
  {
   "cell_type": "code",
   "execution_count": null,
   "metadata": {},
   "outputs": [],
   "source": [
    "sns.heatmap(data=Final, annot = True, cmap = 'Blues',fmt='g')\n",
    "plt.title('Goals per match based on month') "
   ]
  },
  {
   "cell_type": "code",
   "execution_count": null,
   "metadata": {},
   "outputs": [],
   "source": [
    "import warnings\n",
    "warnings.filterwarnings('ignore')\n",
    "sns.lineplot(x = EPL_by_Season.Season, y = EPL_by_Season.HS, data = EPL_by_Season, legend='auto')\n",
    "sns.lineplot(x = EPL_by_Season.Season, y = EPL_by_Season.AS, data = EPL_by_Season, legend='auto')\n",
    "sns.lineplot(x = EPL_by_Season.Season, y = EPL_by_Season.HST, data = EPL_by_Season, legend='auto')\n",
    "sns.lineplot(x = EPL_by_Season.Season, y = EPL_by_Season.AST, data = EPL_by_Season, legend='auto')\n",
    "plt.ylabel('Shots')\n",
    "plt.title('Home Shots vs Away Shots') \n",
    "# plt.xticks(rotation=60)"
   ]
  },
  {
   "cell_type": "markdown",
   "metadata": {},
   "source": [
    "Team-Wise Analysis"
   ]
  },
  {
   "cell_type": "code",
   "execution_count": null,
   "metadata": {},
   "outputs": [],
   "source": [
    "EPL_Data"
   ]
  },
  {
   "cell_type": "code",
   "execution_count": null,
   "metadata": {},
   "outputs": [],
   "source": [
    "EPL_home = EPL_Data.groupby(EPL_Data['HomeTeam'])\n",
    "EPL_away = EPL_Data.groupby(EPL_Data['AwayTeam'])"
   ]
  },
  {
   "cell_type": "code",
   "execution_count": null,
   "metadata": {},
   "outputs": [],
   "source": [
    "EPL_team_goals = EPL_home['FTHG'].sum() + EPL_away['FTAG'].sum()\n",
    "EPL_team_goals = EPL_team_goals.reset_index()\n",
    "EPL_team_goals.rename(columns={0 :'Goals'}, inplace=True )\n",
    "EPL_team_goals.rename(columns={'HomeTeam' :'Team'}, inplace=True )\n",
    "EPL_team_goals = EPL_team_goals.sort_values(['Goals'], ascending=False)"
   ]
  },
  {
   "cell_type": "code",
   "execution_count": null,
   "metadata": {},
   "outputs": [],
   "source": [
    "matplotlib.rcParams['figure.figsize'] = (20, 15)\n",
    "sns.barplot(x=\"Goals\",y='Team', data = EPL_team_goals)\n",
    "plt.title('Overall Goals Scored')\n",
    "plt.ylabel('Team')"
   ]
  },
  {
   "cell_type": "code",
   "execution_count": null,
   "metadata": {},
   "outputs": [],
   "source": [
    "EPL_team_HomeSCR = EPL_home[['FTHG', 'HS']].sum().reset_index() \n",
    "EPL_team_AwaySCR = EPL_away[['FTAG', 'AS']].sum().reset_index() \n",
    "EPL_team_HomeSCR.rename( columns={'HomeTeam' :'Team'}, inplace=True )\n",
    "EPL_team_AwaySCR.rename( columns={'AwayTeam' :'Team'}, inplace=True )\n",
    "EPL_team_SCR = pd.concat([EPL_team_HomeSCR, EPL_team_AwaySCR['FTAG'], EPL_team_AwaySCR['AS']], axis = 1)\n",
    "EPL_team_SCR['SCR'] = (EPL_team_SCR['FTHG'] + EPL_team_SCR['FTAG']) / (EPL_team_SCR['AS'] + EPL_team_SCR['HS']) * 100\n",
    "EPL_team_SCR"
   ]
  },
  {
   "cell_type": "code",
   "execution_count": null,
   "metadata": {},
   "outputs": [],
   "source": [
    "EPL_team_SCR = EPL_team_SCR.sort_values(['SCR'], ascending=False)\n",
    "matplotlib.rcParams['figure.figsize'] = (20, 20)\n",
    "sns.barplot(x=\"SCR\",y='Team', data = EPL_team_SCR )\n",
    "plt.title('Shot Conversion Rate')\n",
    "plt.ylabel('Team')"
   ]
  },
  {
   "cell_type": "code",
   "execution_count": null,
   "metadata": {},
   "outputs": [],
   "source": [
    "home_win=100*round((EPL_Data.loc[EPL_Data['FTR']=='H'].groupby('HomeTeam')['FTR'].count()/EPL_Data.groupby('HomeTeam')['FTR'].count()),3)\n",
    "home_win.sort_values(ascending = False)"
   ]
  },
  {
   "cell_type": "code",
   "execution_count": null,
   "metadata": {},
   "outputs": [],
   "source": [
    "home_win.sort_values(ascending=True).plot(kind = 'barh')\n",
    "plt.xlabel('Percentage')\n",
    "plt.ylabel('Team')\n",
    "plt.legend(['% Wins'])\n",
    "plt.title(\"Home Ground Win %\")"
   ]
  },
  {
   "cell_type": "markdown",
   "metadata": {},
   "source": [
    "Referee-Wise Analysis"
   ]
  },
  {
   "cell_type": "code",
   "execution_count": null,
   "metadata": {},
   "outputs": [],
   "source": [
    "EPL_ref = EPL_Data.groupby(['Referee']).sum(numeric_only=True).reset_index()\n",
    "EPL_ref['RC'] = EPL_ref['HR'] + EPL_ref['AR']\n",
    "EPL_ref = EPL_ref.loc[EPL_ref['RC'] != 0].sort_values(['RC'], ascending=False)\n",
    "matplotlib.rcParams['figure.figsize'] = (20, 30)\n",
    "sns.barplot(x=\"RC\",y='Referee', data = EPL_ref )\n",
    "plt.title('Red Cards given by Referees')\n",
    "plt.ylabel('Referee')\n",
    "plt.xlabel('Red Cards')"
   ]
  },
  {
   "cell_type": "code",
   "execution_count": null,
   "metadata": {},
   "outputs": [],
   "source": [
    "# Get a list of all the unique referee names\n",
    "referee_names = EPL_Data['Referee'].unique()\n",
    "\n",
    "# Create an empty list to store the results\n",
    "results = []\n",
    "\n",
    "# Loop through each referee's name and perform the same analysis\n",
    "for referee in referee_names:\n",
    "    # Filter the data to select only the games where the referee was the current referee\n",
    "    referee_games = EPL_Data[EPL_Data['Referee'] == referee]\n",
    "    \n",
    "    # Filter the data to select only the games where Arsenal played with the current referee\n",
    "    arsenal_referee_games = referee_games[(referee_games['HomeTeam'] == 'Man United') | (referee_games['AwayTeam'] == 'Man United')]\n",
    "    \n",
    "    # Count the number of games played under the current referee\n",
    "    num_games_referee = len(arsenal_referee_games)\n",
    "    \n",
    "    # Skip the current iteration if there were no games played under the current referee\n",
    "    if num_games_referee == 0:\n",
    "        continue\n",
    "    \n",
    "    # Count the number of games won under the current referee\n",
    "    num_wins_referee = len(arsenal_referee_games[arsenal_referee_games['FTR'] == 'H'])\n",
    "    \n",
    "    # Calculate the percentage of games won under the current referee\n",
    "    percent_wins_referee = num_wins_referee / num_games_referee * 100\n",
    "    \n",
    "    # Add the results to the list\n",
    "    results.append({'Referee': referee, 'Num Games': num_games_referee, 'Num Wins': num_wins_referee, 'Percent Wins': round(percent_wins_referee, 2)})\n",
    "\n",
    "# Convert the list of results to a pandas DataFrame object\n",
    "results_df = pd.DataFrame(results)\n",
    "\n",
    "# Sort the results DataFrame by the \"Num Games\" column in descending order\n",
    "results_df = results_df.sort_values(by='Num Games', ascending=False)\n",
    "\n",
    "# Print the result\n",
    "print('Man United')\n",
    "print(results_df)"
   ]
  },
  {
   "cell_type": "code",
   "execution_count": null,
   "metadata": {},
   "outputs": [],
   "source": [
    "# Filter the data to select only the games where M Dean was the referee\n",
    "dean_games = EPL_Data[EPL_Data['Referee'] == 'H Webb']\n",
    "\n",
    "# Get a list of all the unique team names\n",
    "team_names = dean_games['HomeTeam'].unique()\n",
    "\n",
    "# Create an empty list to store the results\n",
    "results = []\n",
    "\n",
    "# Loop through each team's name and perform the same analysis\n",
    "for team in team_names:\n",
    "    # Filter the data to select only the games where the team was the current team\n",
    "    team_games = dean_games[(dean_games['HomeTeam'] == team) | (dean_games['AwayTeam'] == team)]\n",
    "    \n",
    "    # Count the number of games played under the current referee\n",
    "    num_games_team = len(team_games)\n",
    "    \n",
    "    # Skip the current iteration if there were no games played under the current referee\n",
    "    if num_games_team == 0:\n",
    "        continue\n",
    "    \n",
    "    # Count the number of games won, drawn, and lost under the current referee\n",
    "    num_wins_team = len(team_games[team_games['FTR'] == 'H'])\n",
    "    num_draws_team = len(team_games[team_games['FTR'] == 'D'])\n",
    "    num_losses_team = len(team_games[team_games['FTR'] == 'A'])\n",
    "    \n",
    "    # Calculate the percentage of games won under the current referee\n",
    "    percent_wins_team = num_wins_team / num_games_team * 100\n",
    "    \n",
    "    # Add the results to the list\n",
    "    results.append({'Team': team, 'Num Games': num_games_team, 'Num Wins': num_wins_team, 'Num Draws': num_draws_team, 'Num Losses': num_losses_team, 'Percent Wins': round(percent_wins_team, 2)})\n",
    "\n",
    "# Convert the list of results to a pandas DataFrame object\n",
    "results_df = pd.DataFrame(results)\n",
    "\n",
    "# Sort the results DataFrame by the \"Num Games\" column in descending order\n",
    "results_df = results_df.sort_values(by='Num Games', ascending=False)\n",
    "\n",
    "# Print the result\n",
    "print('H Webb')\n",
    "print(results_df.head(20))"
   ]
  },
  {
   "cell_type": "markdown",
   "metadata": {},
   "source": [
    "Output Files"
   ]
  },
  {
   "cell_type": "code",
   "execution_count": null,
   "metadata": {},
   "outputs": [],
   "source": [
    "with pd.ExcelFile('results.xlsx') as writer:\n",
    "    EPL_heat.to_excel(writer, sheet_name='Goal Distro per month')"
   ]
  }
 ],
 "metadata": {
  "kernelspec": {
   "display_name": "Python 3",
   "language": "python",
   "name": "python3"
  },
  "language_info": {
   "codemirror_mode": {
    "name": "ipython",
    "version": 3
   },
   "file_extension": ".py",
   "mimetype": "text/x-python",
   "name": "python",
   "nbconvert_exporter": "python",
   "pygments_lexer": "ipython3",
   "version": "3.8.10"
  }
 },
 "nbformat": 4,
 "nbformat_minor": 2
}
